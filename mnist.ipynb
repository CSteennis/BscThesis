{
 "cells": [
  {
   "attachments": {},
   "cell_type": "markdown",
   "metadata": {},
   "source": [
    "# SNN on MNIST\n",
    "\n",
    "In this notebook I train a Spiking Neural network on the MNIST dataset\n"
   ]
  },
  {
   "attachments": {},
   "cell_type": "markdown",
   "metadata": {},
   "source": [
    "[![Open In Colab](https://colab.research.google.com/assets/colab-badge.svg)](https://colab.research.google.com/github/{user_name}/{repo_name}/blob/{branch_name}/mnist.ipynb)"
   ]
  },
  {
   "attachments": {},
   "cell_type": "markdown",
   "metadata": {},
   "source": [
    "Clone git repository for execution on google colab"
   ]
  },
  {
   "cell_type": "code",
   "execution_count": null,
   "metadata": {},
   "outputs": [],
   "source": [
    "!git clone git@github.com:CSteennis/BscThesis.git"
   ]
  },
  {
   "cell_type": "code",
   "execution_count": 1,
   "metadata": {},
   "outputs": [
    {
     "name": "stdout",
     "output_type": "stream",
     "text": [
      "Requirement already satisfied: snntorch in c:\\users\\christian\\downloads\\leiden\\thesis - spiking nn for classification\\.venv\\lib\\site-packages (0.6.0)\n",
      "Requirement already satisfied: torch>=1.1.0 in c:\\users\\christian\\downloads\\leiden\\thesis - spiking nn for classification\\.venv\\lib\\site-packages (from snntorch) (2.0.0)\n",
      "Requirement already satisfied: pandas in c:\\users\\christian\\downloads\\leiden\\thesis - spiking nn for classification\\.venv\\lib\\site-packages (from snntorch) (1.5.3)\n",
      "Requirement already satisfied: matplotlib in c:\\users\\christian\\downloads\\leiden\\thesis - spiking nn for classification\\.venv\\lib\\site-packages (from snntorch) (3.7.0)\n",
      "Requirement already satisfied: numpy>=1.17 in c:\\users\\christian\\downloads\\leiden\\thesis - spiking nn for classification\\.venv\\lib\\site-packages (from snntorch) (1.24.2)\n",
      "Requirement already satisfied: filelock in c:\\users\\christian\\downloads\\leiden\\thesis - spiking nn for classification\\.venv\\lib\\site-packages (from torch>=1.1.0->snntorch) (3.10.0)\n",
      "Requirement already satisfied: typing-extensions in c:\\users\\christian\\downloads\\leiden\\thesis - spiking nn for classification\\.venv\\lib\\site-packages (from torch>=1.1.0->snntorch) (4.5.0)\n",
      "Requirement already satisfied: sympy in c:\\users\\christian\\downloads\\leiden\\thesis - spiking nn for classification\\.venv\\lib\\site-packages (from torch>=1.1.0->snntorch) (1.11.1)\n",
      "Requirement already satisfied: networkx in c:\\users\\christian\\downloads\\leiden\\thesis - spiking nn for classification\\.venv\\lib\\site-packages (from torch>=1.1.0->snntorch) (3.0)\n",
      "Requirement already satisfied: jinja2 in c:\\users\\christian\\downloads\\leiden\\thesis - spiking nn for classification\\.venv\\lib\\site-packages (from torch>=1.1.0->snntorch) (3.1.2)\n",
      "Requirement already satisfied: contourpy>=1.0.1 in c:\\users\\christian\\downloads\\leiden\\thesis - spiking nn for classification\\.venv\\lib\\site-packages (from matplotlib->snntorch) (1.0.7)\n",
      "Requirement already satisfied: cycler>=0.10 in c:\\users\\christian\\downloads\\leiden\\thesis - spiking nn for classification\\.venv\\lib\\site-packages (from matplotlib->snntorch) (0.11.0)\n",
      "Requirement already satisfied: fonttools>=4.22.0 in c:\\users\\christian\\downloads\\leiden\\thesis - spiking nn for classification\\.venv\\lib\\site-packages (from matplotlib->snntorch) (4.38.0)\n",
      "Requirement already satisfied: kiwisolver>=1.0.1 in c:\\users\\christian\\downloads\\leiden\\thesis - spiking nn for classification\\.venv\\lib\\site-packages (from matplotlib->snntorch) (1.4.4)\n",
      "Requirement already satisfied: packaging>=20.0 in c:\\users\\christian\\downloads\\leiden\\thesis - spiking nn for classification\\.venv\\lib\\site-packages (from matplotlib->snntorch) (23.0)\n",
      "Requirement already satisfied: pillow>=6.2.0 in c:\\users\\christian\\downloads\\leiden\\thesis - spiking nn for classification\\.venv\\lib\\site-packages (from matplotlib->snntorch) (9.4.0)\n",
      "Requirement already satisfied: pyparsing>=2.3.1 in c:\\users\\christian\\downloads\\leiden\\thesis - spiking nn for classification\\.venv\\lib\\site-packages (from matplotlib->snntorch) (3.0.9)\n",
      "Requirement already satisfied: python-dateutil>=2.7 in c:\\users\\christian\\downloads\\leiden\\thesis - spiking nn for classification\\.venv\\lib\\site-packages (from matplotlib->snntorch) (2.8.2)\n",
      "Requirement already satisfied: pytz>=2020.1 in c:\\users\\christian\\downloads\\leiden\\thesis - spiking nn for classification\\.venv\\lib\\site-packages (from pandas->snntorch) (2022.7.1)\n",
      "Requirement already satisfied: six>=1.5 in c:\\users\\christian\\downloads\\leiden\\thesis - spiking nn for classification\\.venv\\lib\\site-packages (from python-dateutil>=2.7->matplotlib->snntorch) (1.16.0)\n",
      "Requirement already satisfied: MarkupSafe>=2.0 in c:\\users\\christian\\downloads\\leiden\\thesis - spiking nn for classification\\.venv\\lib\\site-packages (from jinja2->torch>=1.1.0->snntorch) (2.1.2)\n",
      "Requirement already satisfied: mpmath>=0.19 in c:\\users\\christian\\downloads\\leiden\\thesis - spiking nn for classification\\.venv\\lib\\site-packages (from sympy->torch>=1.1.0->snntorch) (1.3.0)\n",
      "Note: you may need to restart the kernel to use updated packages.\n",
      "Requirement already satisfied: torchmetrics in c:\\users\\christian\\downloads\\leiden\\thesis - spiking nn for classification\\.venv\\lib\\site-packages (0.11.4)\n",
      "Requirement already satisfied: numpy>=1.17.2 in c:\\users\\christian\\downloads\\leiden\\thesis - spiking nn for classification\\.venv\\lib\\site-packages (from torchmetrics) (1.24.2)\n",
      "Requirement already satisfied: torch>=1.8.1 in c:\\users\\christian\\downloads\\leiden\\thesis - spiking nn for classification\\.venv\\lib\\site-packages (from torchmetrics) (2.0.0)\n",
      "Requirement already satisfied: packaging in c:\\users\\christian\\downloads\\leiden\\thesis - spiking nn for classification\\.venv\\lib\\site-packages (from torchmetrics) (23.0)\n",
      "Requirement already satisfied: filelock in c:\\users\\christian\\downloads\\leiden\\thesis - spiking nn for classification\\.venv\\lib\\site-packages (from torch>=1.8.1->torchmetrics) (3.10.0)\n",
      "Requirement already satisfied: typing-extensions in c:\\users\\christian\\downloads\\leiden\\thesis - spiking nn for classification\\.venv\\lib\\site-packages (from torch>=1.8.1->torchmetrics) (4.5.0)\n",
      "Requirement already satisfied: sympy in c:\\users\\christian\\downloads\\leiden\\thesis - spiking nn for classification\\.venv\\lib\\site-packages (from torch>=1.8.1->torchmetrics) (1.11.1)\n",
      "Requirement already satisfied: networkx in c:\\users\\christian\\downloads\\leiden\\thesis - spiking nn for classification\\.venv\\lib\\site-packages (from torch>=1.8.1->torchmetrics) (3.0)\n",
      "Requirement already satisfied: jinja2 in c:\\users\\christian\\downloads\\leiden\\thesis - spiking nn for classification\\.venv\\lib\\site-packages (from torch>=1.8.1->torchmetrics) (3.1.2)\n",
      "Requirement already satisfied: MarkupSafe>=2.0 in c:\\users\\christian\\downloads\\leiden\\thesis - spiking nn for classification\\.venv\\lib\\site-packages (from jinja2->torch>=1.8.1->torchmetrics) (2.1.2)\n",
      "Requirement already satisfied: mpmath>=0.19 in c:\\users\\christian\\downloads\\leiden\\thesis - spiking nn for classification\\.venv\\lib\\site-packages (from sympy->torch>=1.8.1->torchmetrics) (1.3.0)\n",
      "Note: you may need to restart the kernel to use updated packages.\n"
     ]
    }
   ],
   "source": [
    "%pip install snntorch\n",
    "%pip install torchmetrics"
   ]
  },
  {
   "cell_type": "markdown",
   "metadata": {},
   "source": [
    "\n",
    "### Imports"
   ]
  },
  {
   "cell_type": "code",
   "execution_count": 2,
   "metadata": {},
   "outputs": [],
   "source": [
    "\n",
    "import matplotlib.pyplot as plt\n",
    "import snntorch.functional as sf\n",
    "import torch, torch.nn as nn\n",
    "from torchvision import datasets, transforms\n",
    "from torch.utils.data import DataLoader\n",
    "\n",
    "from torchmetrics.classification import MulticlassAccuracy\n",
    "\n",
    "from snn_net import Net\n",
    "from snn_net import train"
   ]
  },
  {
   "attachments": {},
   "cell_type": "markdown",
   "metadata": {},
   "source": [
    "### Helper functions to import data and plot the accuracy"
   ]
  },
  {
   "cell_type": "code",
   "execution_count": 3,
   "metadata": {},
   "outputs": [],
   "source": [
    "\n",
    "def import_data():\n",
    "    # Define a transform\n",
    "    transform = transforms.Compose([\n",
    "                transforms.Resize((28,28)),\n",
    "                transforms.Grayscale(),\n",
    "                transforms.ToTensor(),\n",
    "                transforms.Normalize((0,), (1,))])\n",
    "    \n",
    "    # gather data\n",
    "    mnist_train = datasets.MNIST(\"/dataset/\", train=True, download=True, transform=transform)\n",
    "    mnist_test = datasets.MNIST(\"/dataset/\", train=False, download=True, transform=transform)\n",
    "    \n",
    "    # create batches\n",
    "    train_loader = DataLoader(mnist_train, batch_size=128, shuffle=True)\n",
    "    test_loader = DataLoader(mnist_test, batch_size=64) \n",
    "    \n",
    "    return train_loader, test_loader\n"
   ]
  },
  {
   "cell_type": "code",
   "execution_count": 4,
   "metadata": {},
   "outputs": [],
   "source": [
    "\n",
    "def plot_accuracy(acc_hist, title, test=False):\n",
    "    fig, ax = plt.subplots()\n",
    "    ax.plot(acc_hist)\n",
    "    ax.set_title(title)\n",
    "    ax.set_xlabel(\"Epoch\" if test else \"Batch\")\n",
    "    ax.set_ylabel(\"Accuracy\")\n",
    "    fig.savefig(\"images/\"+title+\"_MNIST.svg\", format='svg')\n",
    "\n",
    "def plot_loss(loss_hist, title):\n",
    "    fig, ax = plt.subplots()\n",
    "    ax.plot(loss_hist)\n",
    "    ax.set_title(title)\n",
    "    ax.set_xlabel(\"Batch\")\n",
    "    ax.set_ylabel(\"Loss\")\n",
    "    fig.savefig(\"images/\"+title+\"_MNIST.svg\", format='svg')\n"
   ]
  },
  {
   "attachments": {},
   "cell_type": "markdown",
   "metadata": {},
   "source": [
    "### Hyper parameters"
   ]
  },
  {
   "cell_type": "code",
   "execution_count": 5,
   "metadata": {},
   "outputs": [],
   "source": [
    "\n",
    "# number of epochs\n",
    "epochs = 10\n",
    "\n",
    "# number of time steps\n",
    "n_steps = 25 #ms\n",
    "\n",
    "# neuron counts\n",
    "inputs = 28 * 28\n",
    "hiddens = 200\n",
    "outputs = 10\n",
    "\n",
    "# membrane potential decay\n",
    "decay = 0.9\n"
   ]
  },
  {
   "cell_type": "code",
   "execution_count": 6,
   "metadata": {},
   "outputs": [],
   "source": [
    "\n",
    "# import training and test data\n",
    "train_loader, test_loader = import_data()\n"
   ]
  },
  {
   "attachments": {},
   "cell_type": "markdown",
   "metadata": {},
   "source": [
    "### Train command for the snn"
   ]
  },
  {
   "attachments": {},
   "cell_type": "markdown",
   "metadata": {},
   "source": [
    "#### Encoding schemes"
   ]
  },
  {
   "attachments": {},
   "cell_type": "markdown",
   "metadata": {},
   "source": [
    "##### Rate encoded"
   ]
  },
  {
   "cell_type": "code",
   "execution_count": 7,
   "metadata": {},
   "outputs": [
    {
     "name": "stdout",
     "output_type": "stream",
     "text": [
      "SNN rate:\n"
     ]
    },
    {
     "name": "stderr",
     "output_type": "stream",
     "text": [
      "Epoch 0: 100%|██████████| 469/469 [01:05<00:00,  7.13batch/s, accuracy=96.88, loss=0.104] \n"
     ]
    },
    {
     "name": "stdout",
     "output_type": "stream",
     "text": [
      "Test accuracy: 96.33%\n"
     ]
    },
    {
     "name": "stderr",
     "output_type": "stream",
     "text": [
      "Epoch 1: 100%|██████████| 469/469 [01:01<00:00,  7.57batch/s, accuracy=100.00, loss=0.0174] \n"
     ]
    },
    {
     "name": "stdout",
     "output_type": "stream",
     "text": [
      "Test accuracy: 96.91%\n"
     ]
    },
    {
     "name": "stderr",
     "output_type": "stream",
     "text": [
      "Epoch 2: 100%|██████████| 469/469 [00:58<00:00,  7.96batch/s, accuracy=100.00, loss=0.0157] \n"
     ]
    },
    {
     "name": "stdout",
     "output_type": "stream",
     "text": [
      "Test accuracy: 97.22%\n"
     ]
    },
    {
     "name": "stderr",
     "output_type": "stream",
     "text": [
      "Epoch 3: 100%|██████████| 469/469 [00:54<00:00,  8.54batch/s, accuracy=100.00, loss=0.00577]\n"
     ]
    },
    {
     "name": "stdout",
     "output_type": "stream",
     "text": [
      "Test accuracy: 97.58%\n"
     ]
    },
    {
     "name": "stderr",
     "output_type": "stream",
     "text": [
      "Epoch 4: 100%|██████████| 469/469 [00:55<00:00,  8.43batch/s, accuracy=98.96, loss=0.0391]   \n"
     ]
    },
    {
     "name": "stdout",
     "output_type": "stream",
     "text": [
      "Test accuracy: 97.64%\n"
     ]
    },
    {
     "name": "stderr",
     "output_type": "stream",
     "text": [
      "Epoch 5: 100%|██████████| 469/469 [00:57<00:00,  8.19batch/s, accuracy=100.00, loss=0.00639]\n"
     ]
    },
    {
     "name": "stdout",
     "output_type": "stream",
     "text": [
      "Test accuracy: 97.58%\n"
     ]
    },
    {
     "name": "stderr",
     "output_type": "stream",
     "text": [
      "Epoch 6: 100%|██████████| 469/469 [00:58<00:00,  8.05batch/s, accuracy=97.92, loss=0.0572]  \n"
     ]
    },
    {
     "name": "stdout",
     "output_type": "stream",
     "text": [
      "Test accuracy: 97.44%\n"
     ]
    },
    {
     "name": "stderr",
     "output_type": "stream",
     "text": [
      "Epoch 7: 100%|██████████| 469/469 [00:59<00:00,  7.86batch/s, accuracy=96.88, loss=0.0496]   \n"
     ]
    },
    {
     "name": "stdout",
     "output_type": "stream",
     "text": [
      "Test accuracy: 97.76%\n"
     ]
    },
    {
     "name": "stderr",
     "output_type": "stream",
     "text": [
      "Epoch 8: 100%|██████████| 469/469 [01:00<00:00,  7.77batch/s, accuracy=98.96, loss=0.0747]   \n"
     ]
    },
    {
     "name": "stdout",
     "output_type": "stream",
     "text": [
      "Test accuracy: 97.56%\n"
     ]
    },
    {
     "name": "stderr",
     "output_type": "stream",
     "text": [
      "Epoch 9: 100%|██████████| 469/469 [00:58<00:00,  7.98batch/s, accuracy=98.96, loss=0.0229]   \n"
     ]
    },
    {
     "name": "stdout",
     "output_type": "stream",
     "text": [
      "Test accuracy: 97.24%\n"
     ]
    }
   ],
   "source": [
    "\n",
    "print(\"SNN rate:\")\n",
    "\n",
    "# initialize net\n",
    "rate_snn = Net(inputs, hiddens, outputs, decay, n_steps, enc_type='rate')\n",
    "\n",
    "# optimization algoritm\n",
    "optimizer = torch.optim.Adam(rate_snn.parameters()) # (NOTE: Adam stond in de tutorial misschien beter algoritme)\n",
    "\n",
    "# loss function\n",
    "loss_fn = sf.ce_count_loss() # type: ignore\n",
    "\n",
    "# accuracy function\n",
    "accuracy = sf.accuracy_rate\n",
    "\n",
    "test_acc_snn_rate = train(rate_snn, optimizer, loss_fn, accuracy, train_loader, test_loader, epochs)\n"
   ]
  },
  {
   "attachments": {},
   "cell_type": "markdown",
   "metadata": {},
   "source": [
    "##### Time encoded"
   ]
  },
  {
   "cell_type": "code",
   "execution_count": 8,
   "metadata": {},
   "outputs": [
    {
     "name": "stdout",
     "output_type": "stream",
     "text": [
      "SNN temporal:\n"
     ]
    },
    {
     "name": "stderr",
     "output_type": "stream",
     "text": [
      "Epoch 0: 100%|██████████| 469/469 [01:06<00:00,  7.09batch/s, accuracy=93.75, loss=0.258]\n"
     ]
    },
    {
     "name": "stdout",
     "output_type": "stream",
     "text": [
      "Test accuracy: 87.78%\n"
     ]
    },
    {
     "name": "stderr",
     "output_type": "stream",
     "text": [
      "Epoch 1: 100%|██████████| 469/469 [01:05<00:00,  7.21batch/s, accuracy=93.75, loss=0.226]\n"
     ]
    },
    {
     "name": "stdout",
     "output_type": "stream",
     "text": [
      "Test accuracy: 92.65%\n"
     ]
    },
    {
     "name": "stderr",
     "output_type": "stream",
     "text": [
      "Epoch 2: 100%|██████████| 469/469 [01:01<00:00,  7.61batch/s, accuracy=95.83, loss=0.175] \n"
     ]
    },
    {
     "name": "stdout",
     "output_type": "stream",
     "text": [
      "Test accuracy: 93.74%\n"
     ]
    },
    {
     "name": "stderr",
     "output_type": "stream",
     "text": [
      "Epoch 3: 100%|██████████| 469/469 [01:06<00:00,  7.05batch/s, accuracy=94.79, loss=0.128]  \n"
     ]
    },
    {
     "name": "stdout",
     "output_type": "stream",
     "text": [
      "Test accuracy: 94.73%\n"
     ]
    },
    {
     "name": "stderr",
     "output_type": "stream",
     "text": [
      "Epoch 4: 100%|██████████| 469/469 [01:04<00:00,  7.24batch/s, accuracy=94.79, loss=0.254] \n"
     ]
    },
    {
     "name": "stdout",
     "output_type": "stream",
     "text": [
      "Test accuracy: 95.60%\n"
     ]
    },
    {
     "name": "stderr",
     "output_type": "stream",
     "text": [
      "Epoch 5: 100%|██████████| 469/469 [01:06<00:00,  7.10batch/s, accuracy=95.83, loss=0.115]  \n"
     ]
    },
    {
     "name": "stdout",
     "output_type": "stream",
     "text": [
      "Test accuracy: 95.31%\n"
     ]
    },
    {
     "name": "stderr",
     "output_type": "stream",
     "text": [
      "Epoch 6: 100%|██████████| 469/469 [01:05<00:00,  7.11batch/s, accuracy=100.00, loss=0.0173]\n"
     ]
    },
    {
     "name": "stdout",
     "output_type": "stream",
     "text": [
      "Test accuracy: 96.02%\n"
     ]
    },
    {
     "name": "stderr",
     "output_type": "stream",
     "text": [
      "Epoch 7: 100%|██████████| 469/469 [01:13<00:00,  6.39batch/s, accuracy=95.83, loss=0.15]   \n"
     ]
    },
    {
     "name": "stdout",
     "output_type": "stream",
     "text": [
      "Test accuracy: 96.72%\n"
     ]
    },
    {
     "name": "stderr",
     "output_type": "stream",
     "text": [
      "Epoch 8: 100%|██████████| 469/469 [01:14<00:00,  6.33batch/s, accuracy=95.83, loss=0.105]   \n"
     ]
    },
    {
     "name": "stdout",
     "output_type": "stream",
     "text": [
      "Test accuracy: 96.26%\n"
     ]
    },
    {
     "name": "stderr",
     "output_type": "stream",
     "text": [
      "Epoch 9: 100%|██████████| 469/469 [01:14<00:00,  6.33batch/s, accuracy=97.92, loss=0.0686] \n"
     ]
    },
    {
     "name": "stdout",
     "output_type": "stream",
     "text": [
      "Test accuracy: 96.79%\n"
     ]
    }
   ],
   "source": [
    "\n",
    "print(\"SNN temporal:\")\n",
    "\n",
    "# initialize net\n",
    "temp_snn = Net(inputs, hiddens, outputs, decay, n_steps, 'latency')\n",
    "\n",
    "# optimization algoritm\n",
    "optimizer = torch.optim.Adam(temp_snn.parameters()) # (NOTE: Adam stond in de tutorial misschien beter algoritme)\n",
    "\n",
    "# loss function\n",
    "loss_fn = sf.ce_temporal_loss() # type: ignore\n",
    "\n",
    "# accuracy function\n",
    "accuracy = sf.accuracy_temporal\n",
    "\n",
    "test_acc_snn_temp = train(temp_snn, optimizer, loss_fn, accuracy, train_loader, test_loader, epochs)\n"
   ]
  },
  {
   "attachments": {},
   "cell_type": "markdown",
   "metadata": {},
   "source": [
    "#### Test net on single img"
   ]
  },
  {
   "cell_type": "code",
   "execution_count": 1,
   "metadata": {},
   "outputs": [
    {
     "ename": "NameError",
     "evalue": "name 'test_acc_snn_rate' is not defined",
     "output_type": "error",
     "traceback": [
      "\u001b[1;31m---------------------------------------------------------------------------\u001b[0m",
      "\u001b[1;31mNameError\u001b[0m                                 Traceback (most recent call last)",
      "Cell \u001b[1;32mIn[1], line 1\u001b[0m\n\u001b[1;32m----> 1\u001b[0m test_acc, loss_hist, acc_hist \u001b[39m=\u001b[39m test_acc_snn_rate\n\u001b[0;32m      3\u001b[0m plot_accuracy(acc_hist, \u001b[39m\"\u001b[39m\u001b[39mTrain-accuracy\u001b[39m\u001b[39m\"\u001b[39m)\n\u001b[0;32m      4\u001b[0m plot_loss(loss_hist, \u001b[39m\"\u001b[39m\u001b[39mTrain-loss\u001b[39m\u001b[39m\"\u001b[39m)\n",
      "\u001b[1;31mNameError\u001b[0m: name 'test_acc_snn_rate' is not defined"
     ]
    }
   ],
   "source": [
    "\n",
    "test_acc, loss_hist, acc_hist = test_acc_snn_rate\n",
    "\n",
    "plot_accuracy(acc_hist, \"Train-accuracy\")\n",
    "plot_loss(loss_hist, \"Train-loss\")\n",
    "plot_accuracy(test_acc, \"Test-accuracy\", test=True)\n"
   ]
  },
  {
   "cell_type": "code",
   "execution_count": null,
   "metadata": {},
   "outputs": [],
   "source": [
    "\n",
    "data = next(iter(train_loader))[0].squeeze()\n",
    "\n",
    "img = 0\n",
    "\n",
    "plt.imshow(data[img],cmap=\"Greys\")\n",
    "\n",
    "output = rate_snn.forward(data.flatten(1))\n",
    "\n",
    "fig, ax = plt.subplots(5,2)\n",
    "\n",
    "for i in range(5):\n",
    "    for j in range(2):\n",
    "        ax[i][j].plot(output[:,img,2*i+j].detach().numpy())\n",
    "        ax[i][j].set_title(f'{2*i+j}')\n",
    "        ax[i][j].set_ybound(-0.2,1.2)\n",
    "\n",
    "fig.tight_layout()\n"
   ]
  },
  {
   "attachments": {},
   "cell_type": "markdown",
   "metadata": {},
   "source": [
    "### Train command for Feed Forward net"
   ]
  },
  {
   "cell_type": "code",
   "execution_count": 9,
   "metadata": {},
   "outputs": [
    {
     "name": "stdout",
     "output_type": "stream",
     "text": [
      "FFN:\n"
     ]
    },
    {
     "name": "stderr",
     "output_type": "stream",
     "text": [
      "Epoch 0: 100%|██████████| 469/469 [00:20<00:00, 23.23batch/s, accuracy=91.66, loss=0.236]\n"
     ]
    },
    {
     "name": "stdout",
     "output_type": "stream",
     "text": [
      "Test accuracy: 94.18%\n"
     ]
    },
    {
     "name": "stderr",
     "output_type": "stream",
     "text": [
      "Epoch 1: 100%|██████████| 469/469 [00:18<00:00, 25.30batch/s, accuracy=99.00, loss=0.0463]\n"
     ]
    },
    {
     "name": "stdout",
     "output_type": "stream",
     "text": [
      "Test accuracy: 95.69%\n"
     ]
    },
    {
     "name": "stderr",
     "output_type": "stream",
     "text": [
      "Epoch 2: 100%|██████████| 469/469 [00:18<00:00, 26.02batch/s, accuracy=96.79, loss=0.19]   \n"
     ]
    },
    {
     "name": "stdout",
     "output_type": "stream",
     "text": [
      "Test accuracy: 96.58%\n"
     ]
    },
    {
     "name": "stderr",
     "output_type": "stream",
     "text": [
      "Epoch 3: 100%|██████████| 469/469 [00:18<00:00, 24.78batch/s, accuracy=96.66, loss=0.126]  \n"
     ]
    },
    {
     "name": "stdout",
     "output_type": "stream",
     "text": [
      "Test accuracy: 97.12%\n"
     ]
    },
    {
     "name": "stderr",
     "output_type": "stream",
     "text": [
      "Epoch 4: 100%|██████████| 469/469 [00:19<00:00, 23.94batch/s, accuracy=97.09, loss=0.0875] \n"
     ]
    },
    {
     "name": "stdout",
     "output_type": "stream",
     "text": [
      "Test accuracy: 97.43%\n"
     ]
    },
    {
     "name": "stderr",
     "output_type": "stream",
     "text": [
      "Epoch 5: 100%|██████████| 469/469 [00:17<00:00, 27.02batch/s, accuracy=99.38, loss=0.0668] \n"
     ]
    },
    {
     "name": "stdout",
     "output_type": "stream",
     "text": [
      "Test accuracy: 97.50%\n"
     ]
    },
    {
     "name": "stderr",
     "output_type": "stream",
     "text": [
      "Epoch 6: 100%|██████████| 469/469 [00:22<00:00, 21.29batch/s, accuracy=99.29, loss=0.0343]  \n"
     ]
    },
    {
     "name": "stdout",
     "output_type": "stream",
     "text": [
      "Test accuracy: 97.33%\n"
     ]
    },
    {
     "name": "stderr",
     "output_type": "stream",
     "text": [
      "Epoch 7: 100%|██████████| 469/469 [00:20<00:00, 22.92batch/s, accuracy=98.33, loss=0.0249]  \n"
     ]
    },
    {
     "name": "stdout",
     "output_type": "stream",
     "text": [
      "Test accuracy: 97.55%\n"
     ]
    },
    {
     "name": "stderr",
     "output_type": "stream",
     "text": [
      "Epoch 8: 100%|██████████| 469/469 [00:18<00:00, 24.86batch/s, accuracy=100.00, loss=0.0172] \n"
     ]
    },
    {
     "name": "stdout",
     "output_type": "stream",
     "text": [
      "Test accuracy: 97.57%\n"
     ]
    },
    {
     "name": "stderr",
     "output_type": "stream",
     "text": [
      "Epoch 9: 100%|██████████| 469/469 [00:21<00:00, 21.89batch/s, accuracy=99.23, loss=0.025]   \n"
     ]
    },
    {
     "name": "stdout",
     "output_type": "stream",
     "text": [
      "Test accuracy: 97.59%\n"
     ]
    }
   ],
   "source": [
    "\n",
    "feed_fwd_net = nn.Sequential(nn.Linear(inputs, hiddens),\n",
    "                            nn.ReLU(),\n",
    "                            nn.Linear(hiddens, outputs))\n",
    "\n",
    "# optimization algoritm\n",
    "optimizer = torch.optim.Adam(feed_fwd_net.parameters()) # (NOTE: Adam stond in de tutorial misschien beter algoritme)\n",
    "\n",
    "# loss function\n",
    "loss_fn = nn.CrossEntropyLoss()\n",
    "\n",
    "# accuracy function\n",
    "accuracy = MulticlassAccuracy(num_classes=outputs)\n",
    "\n",
    "print(\"FFN:\")\n",
    "test_acc_feed = train(feed_fwd_net, optimizer, loss_fn, accuracy, train_loader, test_loader, epochs)\n"
   ]
  },
  {
   "attachments": {},
   "cell_type": "markdown",
   "metadata": {},
   "source": [
    "### Comparison"
   ]
  },
  {
   "cell_type": "code",
   "execution_count": 11,
   "metadata": {},
   "outputs": [
    {
     "data": {
      "image/png": "[encoded data removed]",
      "text/plain": [
       "<Figure size 640x480 with 1 Axes>"
      ]
     },
     "metadata": {},
     "output_type": "display_data"
    }
   ],
   "source": [
    "\n",
    "fig, ax = plt.subplots()\n",
    "ax.plot(test_acc_snn_rate[0], label=\"SNN rate\")\n",
    "ax.plot(test_acc_snn_temp[0], label=\"SNN temporal\")\n",
    "ax.plot(test_acc_feed[0], label=\"FFN\")\n",
    "ax.set_title(\"Test-accuracy comparison\")\n",
    "ax.set_xlabel(\"Epoch\")\n",
    "ax.set_ylabel(\"Accuracy\")\n",
    "ax.legend()\n",
    "fig.savefig(\"images/Comparison_MNIST.svg\", format='svg')\n"
   ]
  }
 ],
 "metadata": {
  "kernelspec": {
   "display_name": "env",
   "language": "python",
   "name": "python3"
  },
  "language_info": {
   "codemirror_mode": {
    "name": "ipython",
    "version": 3
   },
   "file_extension": ".py",
   "mimetype": "text/x-python",
   "name": "python",
   "nbconvert_exporter": "python",
   "pygments_lexer": "ipython3",
   "version": "3.11.2"
  },
  "nbformat": 4,
  "nbformat_minor": 0
 },
 "nbformat": 4,
 "nbformat_minor": 2
}
