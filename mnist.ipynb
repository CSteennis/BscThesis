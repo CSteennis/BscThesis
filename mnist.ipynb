{
 "cells": [
  {
   "attachments": {},
   "cell_type": "markdown",
   "metadata": {},
   "source": [
    "# SNN on MNIST\n",
    "\n",
    "In this notebook I train a Spiking Neural network on the MNIST dataset\n"
   ]
  },
  {
   "attachments": {},
   "cell_type": "markdown",
   "metadata": {},
   "source": [
    "[![Open In Colab](https://colab.research.google.com/assets/colab-badge.svg)](https://colab.research.google.com/github/{user_name}/{repo_name}/blob/{branch_name}/mnist.ipynb)"
   ]
  },
  {
   "cell_type": "code",
   "execution_count": null,
   "metadata": {},
   "outputs": [],
   "source": [
    "%pip install snntorch\n",
    "%pip install torchmetrics"
   ]
  },
  {
   "cell_type": "markdown",
   "metadata": {},
   "source": [
    "\n",
    "### Imports"
   ]
  },
  {
   "cell_type": "code",
   "execution_count": null,
   "metadata": {},
   "outputs": [],
   "source": [
    "\n",
    "import matplotlib.pyplot as plt\n",
    "import snntorch.functional as sf\n",
    "import torch, torch.nn as nn\n",
    "from torchvision import datasets, transforms\n",
    "from torch.utils.data import DataLoader\n",
    "\n",
    "from torchmetrics.classification import MulticlassAccuracy\n",
    "\n",
    "from snn_net import Net\n",
    "from snn_net import train"
   ]
  },
  {
   "attachments": {},
   "cell_type": "markdown",
   "metadata": {},
   "source": [
    "### Helper functions to import data and plot the accuracy"
   ]
  },
  {
   "cell_type": "code",
   "execution_count": null,
   "metadata": {},
   "outputs": [],
   "source": [
    "\n",
    "def import_data():\n",
    "    # Define a transform\n",
    "    transform = transforms.Compose([\n",
    "                transforms.Resize((28,28)),\n",
    "                transforms.Grayscale(),\n",
    "                transforms.ToTensor(),\n",
    "                transforms.Normalize((0,), (1,))])\n",
    "    \n",
    "    # gather data\n",
    "    mnist_train = datasets.MNIST(\"/dataset/\", train=True, download=True, transform=transform)\n",
    "    mnist_test = datasets.MNIST(\"/dataset/\", train=False, download=True, transform=transform)\n",
    "    \n",
    "    # create batches\n",
    "    train_loader = DataLoader(mnist_train, batch_size=128, shuffle=True)\n",
    "    test_loader = DataLoader(mnist_test, batch_size=64) \n",
    "    \n",
    "    return train_loader, test_loader\n"
   ]
  },
  {
   "cell_type": "code",
   "execution_count": null,
   "metadata": {},
   "outputs": [],
   "source": [
    "\n",
    "\n",
    "def plot_accuracy(acc_hist, title, test=False):\n",
    "    plt.plot(acc_hist)\n",
    "    plt.title(title)\n",
    "    plt.xlabel(\"Epoch\" if test else \"Batch\")\n",
    "    plt.ylabel(\"Accuracy\")\n",
    "    # plt.savefig(title+\".png\")\n",
    "    plt.show()\n",
    "\n",
    "def plot_loss(loss_hist, title):\n",
    "    plt.plot(loss_hist)\n",
    "    plt.title(title)\n",
    "    plt.xlabel(\"Batch\")\n",
    "    plt.ylabel(\"Loss\")\n",
    "    # plt.savefig(title+\".png\")\n",
    "    plt.show()\n"
   ]
  },
  {
   "attachments": {},
   "cell_type": "markdown",
   "metadata": {},
   "source": [
    "### Hyper parameters"
   ]
  },
  {
   "cell_type": "code",
   "execution_count": null,
   "metadata": {},
   "outputs": [],
   "source": [
    "\n",
    "# number of epochs\n",
    "epochs = 1\n",
    "\n",
    "# number of time steps\n",
    "n_steps = 25 #ms\n",
    "\n",
    "# neuron counts\n",
    "inputs = 28 * 28\n",
    "hiddens = 200\n",
    "outputs = 10\n",
    "\n",
    "# membrane potential decay\n",
    "decay = 0.9\n"
   ]
  },
  {
   "cell_type": "code",
   "execution_count": null,
   "metadata": {},
   "outputs": [],
   "source": [
    "\n",
    "# import training and test data\n",
    "train_loader, test_loader = import_data()\n"
   ]
  },
  {
   "attachments": {},
   "cell_type": "markdown",
   "metadata": {},
   "source": [
    "### Train command for the snn"
   ]
  },
  {
   "attachments": {},
   "cell_type": "markdown",
   "metadata": {},
   "source": [
    "#### Encoding schemes"
   ]
  },
  {
   "attachments": {},
   "cell_type": "markdown",
   "metadata": {},
   "source": [
    "##### Rate encoded"
   ]
  },
  {
   "cell_type": "code",
   "execution_count": null,
   "metadata": {},
   "outputs": [],
   "source": [
    "\n",
    "print(\"SNN rate:\")\n",
    "\n",
    "# initialize net\n",
    "rate_snn = Net(inputs, hiddens, outputs, decay, n_steps, enc_type='rate')\n",
    "\n",
    "# optimization algoritm\n",
    "optimizer = torch.optim.Adam(rate_snn.parameters()) # (NOTE: Adam stond in de tutorial misschien beter algoritme)\n",
    "\n",
    "# loss function\n",
    "loss_fn = sf.ce_count_loss() # type: ignore\n",
    "\n",
    "# accuracy function\n",
    "accuracy = sf.accuracy_rate\n",
    "\n",
    "test_acc_snn_rate = train(rate_snn, optimizer, loss_fn, accuracy, train_loader, test_loader, epochs)\n"
   ]
  },
  {
   "attachments": {},
   "cell_type": "markdown",
   "metadata": {},
   "source": [
    "##### Time encoded"
   ]
  },
  {
   "cell_type": "code",
   "execution_count": null,
   "metadata": {},
   "outputs": [],
   "source": [
    "\n",
    "print(\"SNN temporal:\")\n",
    "\n",
    "# initialize net\n",
    "temp_snn = Net(inputs, hiddens, outputs, decay, n_steps, 'latency')\n",
    "\n",
    "# optimization algoritm\n",
    "optimizer = torch.optim.Adam(temp_snn.parameters()) # (NOTE: Adam stond in de tutorial misschien beter algoritme)\n",
    "\n",
    "# loss function\n",
    "loss_fn = sf.ce_temporal_loss() # type: ignore\n",
    "\n",
    "# accuracy function\n",
    "accuracy = sf.accuracy_temporal\n",
    "\n",
    "test_acc_snn_temp = train(temp_snn, optimizer, loss_fn, accuracy, train_loader, test_loader, epochs)\n"
   ]
  },
  {
   "attachments": {},
   "cell_type": "markdown",
   "metadata": {},
   "source": [
    "#### Test net on single img"
   ]
  },
  {
   "cell_type": "code",
   "execution_count": null,
   "metadata": {},
   "outputs": [],
   "source": [
    "\n",
    "data = next(iter(train_loader))[0].squeeze()\n",
    "\n",
    "img = 0\n",
    "\n",
    "plt.imshow(data[img],cmap=\"Greys\")\n",
    "\n",
    "output = rate_snn.forward(data.flatten(1))\n",
    "\n",
    "fig, ax = plt.subplots(5,2)\n",
    "\n",
    "for i in range(5):\n",
    "    for j in range(2):\n",
    "        ax[i][j].plot(output[:,img,2*i+j].detach().numpy())\n",
    "        ax[i][j].set_title(f'{2*i+j}')\n",
    "        ax[i][j].set_ybound(-0.2,1.2)\n",
    "\n",
    "fig.tight_layout()\n"
   ]
  },
  {
   "attachments": {},
   "cell_type": "markdown",
   "metadata": {},
   "source": [
    "### Train command for Feed Forward net"
   ]
  },
  {
   "cell_type": "code",
   "execution_count": null,
   "metadata": {},
   "outputs": [],
   "source": [
    "\n",
    "feed_fwd_net = nn.Sequential(nn.Linear(inputs, hiddens),\n",
    "                            nn.ReLU(),\n",
    "                            nn.Linear(hiddens, outputs))\n",
    "\n",
    "# optimization algoritm\n",
    "optimizer = torch.optim.Adam(feed_fwd_net.parameters()) # (NOTE: Adam stond in de tutorial misschien beter algoritme)\n",
    "\n",
    "# loss function\n",
    "loss_fn = nn.CrossEntropyLoss()\n",
    "\n",
    "# accuracy function\n",
    "accuracy = MulticlassAccuracy(num_classes=outputs)\n",
    "\n",
    "print(\"FFN:\")\n",
    "test_acc_feed = train(feed_fwd_net, optimizer, loss_fn, accuracy, train_loader, test_loader, epochs)\n"
   ]
  },
  {
   "attachments": {},
   "cell_type": "markdown",
   "metadata": {},
   "source": [
    "### Comparison"
   ]
  },
  {
   "cell_type": "code",
   "execution_count": null,
   "metadata": {},
   "outputs": [],
   "source": [
    "\n",
    "fig = plt.figure(1)\n",
    "plt.plot(test_acc_snn_rate, label=\"SNN rate\")\n",
    "plt.plot(test_acc_snn_temp, label=\"SNN temporal\")\n",
    "plt.plot(test_acc_feed, label=\"FFN\")\n",
    "plt.title(\"Test accuracy\")\n",
    "plt.xlabel(\"Epoch\")\n",
    "plt.ylabel(\"Accuracy\")\n",
    "plt.legend()\n",
    "plt.show()\n"
   ]
  }
 ],
 "metadata": {
  "kernelspec": {
   "display_name": "env",
   "language": "python",
   "name": "python3"
  },
  "language_info": {
   "codemirror_mode": {
    "name": "ipython",
    "version": 3
   },
   "file_extension": ".py",
   "mimetype": "text/x-python",
   "name": "python",
   "nbconvert_exporter": "python",
   "pygments_lexer": "ipython3",
   "version": "3.11.2"
  },
  "nbformat": 4,
  "nbformat_minor": 0
 },
 "nbformat": 4,
 "nbformat_minor": 2
}
