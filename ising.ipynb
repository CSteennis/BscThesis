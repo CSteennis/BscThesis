{
 "cells": [
  {
   "attachments": {},
   "cell_type": "markdown",
   "metadata": {},
   "source": [
    "# SNN on ISING-MODEL\n",
    "\n",
    "In this notebook I train a Spiking Neural network on the Ising-model\n"
   ]
  },
  {
   "attachments": {},
   "cell_type": "markdown",
   "metadata": {},
   "source": [
    "[![Open In Colab](https://colab.research.google.com/assets/colab-badge.svg)](https://colab.research.google.com/github/{user_name}/{repo_name}/blob/{branch_name}/mnist.ipynb)"
   ]
  },
  {
   "cell_type": "code",
   "execution_count": null,
   "metadata": {},
   "outputs": [],
   "source": [
    "%pip install snntorch\n",
    "%pip install torchmetrics"
   ]
  },
  {
   "cell_type": "markdown",
   "metadata": {},
   "source": [
    "\n",
    "### Imports"
   ]
  },
  {
   "cell_type": "code",
   "execution_count": null,
   "metadata": {},
   "outputs": [],
   "source": [
    "\n",
    "import matplotlib.pyplot as plt\n",
    "import snntorch.functional as sf\n",
    "import torch, torch.nn as nn\n",
    "from torch.utils.data import Dataset, DataLoader\n",
    "import numpy as np\n",
    "\n",
    "from torchmetrics.classification import MulticlassAccuracy\n",
    "\n",
    "from snn_net import Net, train"
   ]
  },
  {
   "attachments": {},
   "cell_type": "markdown",
   "metadata": {},
   "source": [
    "### Helper functions to import data and plot the accuracy"
   ]
  },
  {
   "cell_type": "code",
   "execution_count": null,
   "metadata": {},
   "outputs": [],
   "source": [
    "from Ising.IsingData import generate_Ising_configurations\n",
    "\n",
    "class ISING(Dataset):\n",
    "    \n",
    "    def __init__(self, all_data, train, Ts):\n",
    "        super().__init__()\n",
    "        self.train = train\n",
    "\n",
    "        self.Ts = Ts\n",
    "        \n",
    "        self.T, self.data, self.targets = self._get_data(all_data)\n",
    "\n",
    "    def _get_data(self, all_data):\n",
    "        raw, train_all, test_all = self._get_training_data(all_data, self.Ts)\n",
    "        Temp, data, targets = train_all if self.train else test_all\n",
    "        return Temp, data, targets\n",
    "    \n",
    "    def _get_training_data(self, all_data, Ts, Tc=2.7, train_fraction=0.8):\n",
    "        # Lists to store the raw data\n",
    "        raw_T = []\n",
    "        raw_x = []\n",
    "        raw_y = []\n",
    "        \n",
    "        for T in Ts:      \n",
    "            raw_x.append(all_data['%.3f'%(T)])\n",
    "            n = len(all_data['%.3f'%(T)])\n",
    "            label = 1 if T < Tc else 0\n",
    "            raw_y.append(np.array([label] * n))\n",
    "            raw_T.append(np.array([T]*n))\n",
    "            \n",
    "        raw_T = np.concatenate(raw_T, dtype=np.float32)\n",
    "        raw_x = np.concatenate(raw_x, axis=0, dtype=np.float32)\n",
    "        raw_y = np.concatenate(raw_y, axis=0, dtype=np.longlong)\n",
    "        \n",
    "        # Shuffle\n",
    "        indices = np.random.permutation(len(raw_x))\n",
    "        all_T = raw_T[indices]\n",
    "        all_x = raw_x[indices]\n",
    "        all_y = raw_y[indices]\n",
    "\n",
    "        # Split into train and test sets\n",
    "        train_split = int(train_fraction * len(all_x))\n",
    "        train_T = torch.from_numpy(all_T[:train_split])\n",
    "        train_x = torch.from_numpy(np.clip(all_x[:train_split], 0, 1))\n",
    "        train_y = torch.from_numpy(all_y[:train_split])\n",
    "        test_T = torch.from_numpy(all_T[train_split:])\n",
    "        test_x = torch.from_numpy(np.clip(all_x[train_split:], 0, 1))\n",
    "        test_y = torch.from_numpy(all_y[train_split:])\n",
    "        \n",
    "        return [raw_T, raw_x, raw_y], [train_T, train_x, train_y], [test_T, test_x, test_y]\n",
    "\n",
    "    def __len__(self):\n",
    "        return len(self.data)\n",
    "\n",
    "    def __getitem__(self, index):\n",
    "        return self.T[index], self.data[index], self.targets[index]"
   ]
  },
  {
   "cell_type": "code",
   "execution_count": null,
   "metadata": {},
   "outputs": [],
   "source": [
    "\n",
    "def import_data():\n",
    "    # The temperatures that we are going to generate samples at\n",
    "    Ts = np.arange(1.95, 0.04, -0.1) * 2.27\n",
    "\n",
    "    # For a few different system sizes, store the data in a dictionary with L as key\n",
    "    # TODO: cache generated data\n",
    "    all_data = generate_Ising_configurations(10, 1000, Ts)\n",
    "\n",
    "    train = ISING(all_data, train=True, Ts=Ts)\n",
    "    test = ISING(all_data, train=False, Ts=Ts)\n",
    "\n",
    "    # print(f'raw: \\ntrain: [{train[0].size()}, {train[1].size()}, {train[2].size()}] \\ntest: [{test[0].size()}, {test[1].size()}, {test[2].size()}]')\n",
    "\n",
    "    train_loader = DataLoader(train, batch_size=128, shuffle=True)\n",
    "    test_loader = DataLoader(test, batch_size=64)\n",
    "\n",
    "    return train_loader, test_loader\n"
   ]
  },
  {
   "cell_type": "code",
   "execution_count": null,
   "metadata": {},
   "outputs": [],
   "source": [
    "\n",
    "\n",
    "def plot_accuracy(acc_hist, title, test=False):\n",
    "    plt.plot(acc_hist)\n",
    "    plt.title(title)\n",
    "    plt.xlabel(\"Epoch\" if test else \"Batch\")\n",
    "    plt.ylabel(\"Accuracy\")\n",
    "    # plt.savefig(title+\".png\")\n",
    "    plt.show()\n",
    "\n",
    "def plot_loss(loss_hist, title):\n",
    "    plt.plot(loss_hist)\n",
    "    plt.title(title)\n",
    "    plt.xlabel(\"Batch\")\n",
    "    plt.ylabel(\"Loss\")\n",
    "    # plt.savefig(title+\".png\")\n",
    "    plt.show()\n"
   ]
  },
  {
   "attachments": {},
   "cell_type": "markdown",
   "metadata": {},
   "source": [
    "### Hyper parameters"
   ]
  },
  {
   "cell_type": "code",
   "execution_count": null,
   "metadata": {},
   "outputs": [],
   "source": [
    "\n",
    "# number of epochs\n",
    "epochs = 10\n",
    "\n",
    "# number of time steps\n",
    "n_steps = 25 #ms\n",
    "\n",
    "# neuron counts\n",
    "inputs = 10 * 10\n",
    "hiddens = 200\n",
    "outputs = 2\n",
    "\n",
    "# membrane potential decay\n",
    "decay = 0.9\n"
   ]
  },
  {
   "cell_type": "code",
   "execution_count": null,
   "metadata": {},
   "outputs": [],
   "source": [
    "\n",
    "# import training and test data\n",
    "train_loader, test_loader = import_data()\n"
   ]
  },
  {
   "cell_type": "code",
   "execution_count": null,
   "metadata": {},
   "outputs": [],
   "source": [
    "\n",
    "train_T, train_x, train_y = next(iter(train_loader))\n",
    "\n",
    "fig, ax = plt.subplots(4,5, figsize=(14,10))\n",
    "for i in range(4):\n",
    "    for j in range(5):\n",
    "        ca = ax[i,j].matshow(np.reshape(train_x[(4*i + j)*4], (10,10)), cmap='Greys')\n",
    "        ax[i,j].set_title(\"$T = %.3f$\"%train_T[(4*i + j)*4])\n",
    "        ax[i,j].set_xticks([])\n",
    "        ax[i,j].set_yticks([])\n",
    "        # fig.colorbar(ca)\n",
    "fig.tight_layout()\n"
   ]
  },
  {
   "attachments": {},
   "cell_type": "markdown",
   "metadata": {},
   "source": [
    "### Train command for the snn"
   ]
  },
  {
   "attachments": {},
   "cell_type": "markdown",
   "metadata": {},
   "source": [
    "#### Encoding schemes"
   ]
  },
  {
   "attachments": {},
   "cell_type": "markdown",
   "metadata": {},
   "source": [
    "##### Rate encoded"
   ]
  },
  {
   "cell_type": "code",
   "execution_count": null,
   "metadata": {},
   "outputs": [],
   "source": [
    "\n",
    "print(\"SNN rate:\")\n",
    "\n",
    "# initialize net\n",
    "rate_snn = Net(inputs, hiddens, outputs, decay, n_steps, enc_type='rate')\n",
    "\n",
    "# optimization algoritm\n",
    "optimizer = torch.optim.Adam(rate_snn.parameters()) # (NOTE: Adam stond in de tutorial misschien beter algoritme)\n",
    "\n",
    "# loss function\n",
    "loss_fn = sf.ce_count_loss() # type: ignore\n",
    "\n",
    "# accuracy function\n",
    "accuracy = sf.accuracy_rate\n",
    "\n",
    "test_acc_snn_rate = train(rate_snn, optimizer, loss_fn, accuracy, train_loader, test_loader, epochs)\n"
   ]
  },
  {
   "attachments": {},
   "cell_type": "markdown",
   "metadata": {},
   "source": [
    "##### Time encoded"
   ]
  },
  {
   "cell_type": "code",
   "execution_count": null,
   "metadata": {},
   "outputs": [],
   "source": [
    "\n",
    "print(\"SNN temporal:\")\n",
    "\n",
    "# initialize net\n",
    "temp_snn = Net(inputs, hiddens, outputs, decay, n_steps, 'latency')\n",
    "\n",
    "# optimization algoritm\n",
    "optimizer = torch.optim.Adam(temp_snn.parameters()) # (NOTE: Adam stond in de tutorial misschien beter algoritme)\n",
    "\n",
    "# loss function\n",
    "loss_fn = sf.ce_temporal_loss() # type: ignore\n",
    "\n",
    "# accuracy function\n",
    "accuracy = sf.accuracy_temporal\n",
    "\n",
    "test_acc_snn_temp = train(temp_snn, optimizer, loss_fn, accuracy, train_loader, test_loader, epochs)\n"
   ]
  },
  {
   "attachments": {},
   "cell_type": "markdown",
   "metadata": {},
   "source": [
    "#### Test net on single img"
   ]
  },
  {
   "cell_type": "code",
   "execution_count": null,
   "metadata": {},
   "outputs": [],
   "source": [
    "\n",
    "# #ISING\n",
    "train_T, train_x, train_y = next(iter(train_loader))\n",
    "\n",
    "output = rate_snn(train_x[0])\n",
    "\n",
    "fig, ax = plt.subplots(2)\n",
    "\n",
    "for i in range(2):\n",
    "    ax[i].plot(output[:,i].detach().numpy())\n",
    "    ax[i].set_title(f'{i}')\n",
    "    ax[i].set_ybound(-0.2,1.2)\n",
    "    ax[i].set_xticks([])\n",
    "    ax[i].set_yticks([])\n",
    "\n",
    "fig.tight_layout()\n",
    "\n",
    "fig, ax = plt.subplots(1, figsize=(7,5))\n",
    "ax.matshow(np.reshape(train_x[0], (10,10)), cmap='Greys')\n",
    "ax.set_title(\"$T = %.3f$, Label = %d\"%(train_T[0],train_y[0]))\n",
    "ax.set_xticks([])\n",
    "ax.set_yticks([])\n",
    "fig.tight_layout()\n"
   ]
  },
  {
   "attachments": {},
   "cell_type": "markdown",
   "metadata": {},
   "source": [
    "### Train command for Feed Forward net"
   ]
  },
  {
   "cell_type": "code",
   "execution_count": null,
   "metadata": {},
   "outputs": [],
   "source": [
    "\n",
    "feed_fwd_net = nn.Sequential(nn.Linear(inputs, hiddens),\n",
    "                            nn.ReLU(),\n",
    "                            nn.Linear(hiddens, outputs))\n",
    "\n",
    "# optimization algoritm\n",
    "optimizer = torch.optim.Adam(feed_fwd_net.parameters()) # (NOTE: Adam stond in de tutorial, misschien beter algoritme)\n",
    "\n",
    "# loss function\n",
    "loss_fn = nn.CrossEntropyLoss()\n",
    "\n",
    "# accuracy function\n",
    "accuracy = MulticlassAccuracy(num_classes=outputs)\n",
    "\n",
    "print(\"FFN:\")\n",
    "test_acc_feed = train(feed_fwd_net, optimizer, loss_fn, accuracy, train_loader, test_loader, epochs)\n"
   ]
  },
  {
   "attachments": {},
   "cell_type": "markdown",
   "metadata": {},
   "source": [
    "### Comparison"
   ]
  },
  {
   "cell_type": "code",
   "execution_count": null,
   "metadata": {},
   "outputs": [],
   "source": [
    "\n",
    "fig = plt.figure(1)\n",
    "plt.plot(test_acc_snn_rate, label=\"SNN rate\")\n",
    "plt.plot(test_acc_snn_temp, label=\"SNN temporal\")\n",
    "plt.plot(test_acc_feed, label=\"FFN\")\n",
    "plt.title(\"Test accuracy\")\n",
    "plt.xlabel(\"Epoch\")\n",
    "plt.ylabel(\"Accuracy\")\n",
    "plt.legend()\n",
    "plt.show()\n"
   ]
  }
 ],
 "metadata": {
  "kernelspec": {
   "display_name": "env",
   "language": "python",
   "name": "python3"
  },
  "language_info": {
   "codemirror_mode": {
    "name": "ipython",
    "version": 3
   },
   "file_extension": ".py",
   "mimetype": "text/x-python",
   "name": "python",
   "nbconvert_exporter": "python",
   "pygments_lexer": "ipython3",
   "version": "3.11.2"
  },
  "nbformat": 4,
  "nbformat_minor": 0
 },
 "nbformat": 4,
 "nbformat_minor": 2
}
